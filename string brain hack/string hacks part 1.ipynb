{
 "cells": [
  {
   "cell_type": "code",
   "execution_count": 1,
   "metadata": {},
   "outputs": [
    {
     "name": "stdout",
     "output_type": "stream",
     "text": [
      "Please enter the namemao\n",
      "3\n"
     ]
    }
   ],
   "source": [
    "#1. Write a Python program to calculate the length of a string.\n",
    "string=input('Please enter the name')\n",
    "lenght=len(string)\n",
    "print(lenght)"
   ]
  },
  {
   "cell_type": "code",
   "execution_count": 2,
   "metadata": {},
   "outputs": [
    {
     "data": {
      "text/plain": [
       "3"
      ]
     },
     "execution_count": 2,
     "metadata": {},
     "output_type": "execute_result"
    }
   ],
   "source": [
    "def lenght(x):\n",
    "    lenght1=len(x)\n",
    "    return lenght1\n",
    "lenght('oak')\n",
    "\n"
   ]
  },
  {
   "cell_type": "code",
   "execution_count": 21,
   "metadata": {},
   "outputs": [
    {
     "name": "stdout",
     "output_type": "stream",
     "text": [
      "{'W': 1, 'i': 3, 'n': 6, 'g': 2, ' ': 15, 's': 4, 'h': 3, 'o': 8, 'u': 1, 'l': 1, 'd': 4, 'b': 2, 'e': 7, 'a': 4, 'w': 4, 't': 2, 'r': 4, 'm': 1, 'f': 1}\n"
     ]
    }
   ],
   "source": [
    "#Write a Python program to count the number of characters (character frequency) in a string.\n",
    "text='Winning should be based on what is earn not mere words of how good we are'\n",
    "text_str={}\n",
    "for i in text:\n",
    "    if i in text_str:\n",
    "        text_str[i]+=1\n",
    "    else:\n",
    "        text_str[i]=1\n",
    "print(text_str)\n",
    "    \n",
    "          "
   ]
  },
  {
   "cell_type": "code",
   "execution_count": 25,
   "metadata": {},
   "outputs": [
    {
     "name": "stdout",
     "output_type": "stream",
     "text": [
      "{1: {'cate': 12, 'johh': 89}}\n"
     ]
    }
   ],
   "source": [
    "win={}\n",
    "win[1]={'cate' :12,'johh' :89}\n",
    "print(win)"
   ]
  },
  {
   "cell_type": "code",
   "execution_count": 11,
   "metadata": {},
   "outputs": [
    {
     "name": "stdout",
     "output_type": "stream",
     "text": [
      "Counter({' ': 11, 'e': 7, 'o': 5, 't': 5, 'n': 3, 'h': 3, 'a': 2, 'i': 2, 'd': 2, 'u': 2, 'l': 2, 'H': 1, 'v': 1, 'w': 1, 'p': 1, 's': 1, 'b': 1, 'x': 1, 'c': 1})\n"
     ]
    }
   ],
   "source": [
    "from collections import Counter\n",
    "text='Have no idea how i need to push the button to excell'\n",
    "res=Counter(text)\n",
    "print(res)"
   ]
  },
  {
   "cell_type": "code",
   "execution_count": null,
   "metadata": {},
   "outputs": [],
   "source": []
  },
  {
   "cell_type": "code",
   "execution_count": 13,
   "metadata": {},
   "outputs": [
    {
     "name": "stdout",
     "output_type": "stream",
     "text": [
      "{'H': 1, 'a': 2, 'v': 1, 'e': 7, ' ': 11, 'n': 3, 'o': 5, 'i': 2, 'd': 2, 'h': 3, 'w': 1, 't': 5, 'p': 1, 'u': 2, 's': 1, 'b': 1, 'x': 1, 'c': 1, 'l': 2}\n"
     ]
    }
   ],
   "source": [
    "res1={}\n",
    "for keys in text:\n",
    "    res1[keys]=res1.get(keys,0) +1\n",
    "print(res1)"
   ]
  },
  {
   "cell_type": "code",
   "execution_count": 19,
   "metadata": {},
   "outputs": [
    {
     "name": "stdout",
     "output_type": "stream",
     "text": [
      "{'v': 1, 'e': 7, 'H': 1, 'a': 2, 'u': 2, 'h': 3, 'o': 5, 'w': 1, 'l': 2, 'p': 1, 'n': 3, 't': 5, ' ': 11, 'i': 2, 's': 1, 'c': 1, 'b': 1, 'd': 2, 'x': 1}\n"
     ]
    }
   ],
   "source": [
    "res={i: text.count(i) for i in set(text)}\n",
    "print(res)"
   ]
  },
  {
   "cell_type": "code",
   "execution_count": 43,
   "metadata": {},
   "outputs": [
    {
     "name": "stdout",
     "output_type": "stream",
     "text": [
      "w3ce\n",
      "w3w3\n",
      ",\n"
     ]
    }
   ],
   "source": [
    " #Write a Python program to get a string made of the first 2 and the last 2 chars from a given a string. \n",
    "    #If the string length is less than 2, return instead of the empty string\n",
    "def get(word):\n",
    "    extract1=word[0:2]\n",
    "    extract2=word[-2:]\n",
    "    results=extract1+extract2\n",
    "    if len(word)<2:\n",
    "        print(\",\")\n",
    "    else:\n",
    "        print(results)\n",
    "get('w3resource')\n",
    "get('w3')\n",
    "get('w')"
   ]
  },
  {
   "cell_type": "code",
   "execution_count": 4,
   "metadata": {},
   "outputs": [
    {
     "name": "stdout",
     "output_type": "stream",
     "text": [
      "meggain 7\n"
     ]
    }
   ],
   "source": [
    "#Write a Python function that takes a list of words and return the longest word and the length of the longest one\n",
    "def checking(word):\n",
    "    final_list=[]\n",
    "    for i in word:\n",
    "        final_list.append((len(i),i))\n",
    "    final_list.sort()\n",
    "    print(final_list[-1][1],len(final_list[-1][1]))\n",
    "    \n",
    "a=['paul','meggain','vyonne','elosy']\n",
    "checking(a)\n",
    "\n"
   ]
  },
  {
   "cell_type": "code",
   "execution_count": null,
   "metadata": {},
   "outputs": [],
   "source": [
    "#Write a Python program to check whether any word in a given \n",
    "#sting contains duplicate characrters or not. Return True or False"
   ]
  },
  {
   "cell_type": "code",
   "execution_count": 5,
   "metadata": {},
   "outputs": [
    {
     "name": "stdout",
     "output_type": "stream",
     "text": [
      "{'r', 'k', 'a', 'm', 'i'}\n",
      "False\n"
     ]
    }
   ],
   "source": [
    "lis=set('karimi')\n",
    "print(lis)\n",
    "print('c' in lis)\n"
   ]
  },
  {
   "cell_type": "code",
   "execution_count": 11,
   "metadata": {},
   "outputs": [
    {
     "data": {
      "text/plain": [
       "True"
      ]
     },
     "execution_count": 11,
     "metadata": {},
     "output_type": "execute_result"
    }
   ],
   "source": [
    "def duplicate(word):\n",
    "    word_list=word.split()\n",
    "    for i in word_list:\n",
    "        if len(i)>len(set(word)):\n",
    "             return False\n",
    "    return True\n",
    "duplicate('i can')\n",
    "            "
   ]
  },
  {
   "cell_type": "code",
   "execution_count": 13,
   "metadata": {},
   "outputs": [
    {
     "name": "stdout",
     "output_type": "stream",
     "text": [
      "['This', 'is a', 'multiline', 'string.', '']\n"
     ]
    }
   ],
   "source": [
    "#Write a Python program to split a given multiline string into a list of lines. Go to the editor\n",
    "data=\"\"\"This\n",
    "is a\n",
    "multiline\n",
    "string.\n",
    "\"\"\"\n",
    "results=data.split('\\n')\n",
    "print(results)"
   ]
  },
  {
   "cell_type": "code",
   "execution_count": 17,
   "metadata": {},
   "outputs": [
    {
     "data": {
      "text/plain": [
       "'christine'"
      ]
     },
     "execution_count": 17,
     "metadata": {},
     "output_type": "execute_result"
    }
   ],
   "source": [
    "#Write a Python program to decapitalize the first letter of a given string.\n",
    "def name(word):\n",
    "    results=word[0].lower()+word[1:]\n",
    "    return results\n",
    "name('Christine')"
   ]
  },
  {
   "cell_type": "code",
   "execution_count": 18,
   "metadata": {},
   "outputs": [
    {
     "name": "stdout",
     "output_type": "stream",
     "text": [
      "[49, 21]\n"
     ]
    }
   ],
   "source": [
    "# Write a Python program to extract numbers from a given string.\n",
    "text='I love number 49 and all the other numebr like 21 chill me '\n",
    "res=[int(i) for i in text.split() if i .isdigit()]\n",
    "print(res)\n"
   ]
  },
  {
   "cell_type": "code",
   "execution_count": 20,
   "metadata": {},
   "outputs": [
    {
     "name": "stdout",
     "output_type": "stream",
     "text": [
      "['67', '87', '44']\n"
     ]
    }
   ],
   "source": [
    "import re\n",
    "text='It require number 67 to grow and 87 to downsize and 44'\n",
    "regex='\\d+'\n",
    "match=re.findall(regex,text)\n",
    "print(match)"
   ]
  },
  {
   "cell_type": "code",
   "execution_count": null,
   "metadata": {},
   "outputs": [],
   "source": [
    "import re\n",
    " \n",
    "# A sample text string where regular expression\n",
    "# is searched.\n",
    "string = \"\"\"Hello my Number is 123456789 and\n",
    "            my friend's number is 987654321\"\"\"\n",
    " \n",
    "# A sample regular expression to find digits.\n",
    "regex = '\\d+'\n",
    " \n",
    "match = re.findall(regex, string)\n",
    "print(match)"
   ]
  },
  {
   "cell_type": "code",
   "execution_count": null,
   "metadata": {},
   "outputs": [],
   "source": [
    "#Write a Python program to find the string similarity between two given strings."
   ]
  },
  {
   "cell_type": "code",
   "execution_count": 21,
   "metadata": {},
   "outputs": [
    {
     "ename": "AttributeError",
     "evalue": "'str' object has no attribute 'remove'",
     "output_type": "error",
     "traceback": [
      "\u001b[0;31m---------------------------------------------------------------------------\u001b[0m",
      "\u001b[0;31mAttributeError\u001b[0m                            Traceback (most recent call last)",
      "\u001b[0;32m<ipython-input-21-ff28e9890157>\u001b[0m in \u001b[0;36m<module>\u001b[0;34m\u001b[0m\n\u001b[1;32m      1\u001b[0m \u001b[0;31m#Write a Python program to remove unwanted characters from a given string.\u001b[0m\u001b[0;34m\u001b[0m\u001b[0;34m\u001b[0m\u001b[0;34m\u001b[0m\u001b[0m\n\u001b[1;32m      2\u001b[0m \u001b[0mname\u001b[0m\u001b[0;34m=\u001b[0m\u001b[0;34m'%janet killed/ a bug by **'\u001b[0m\u001b[0;34m\u001b[0m\u001b[0;34m\u001b[0m\u001b[0m\n\u001b[0;32m----> 3\u001b[0;31m \u001b[0mresults\u001b[0m\u001b[0;34m=\u001b[0m\u001b[0mname\u001b[0m\u001b[0;34m.\u001b[0m\u001b[0mremove\u001b[0m\u001b[0;34m(\u001b[0m\u001b[0;34m'%/**'\u001b[0m\u001b[0;34m)\u001b[0m\u001b[0;34m\u001b[0m\u001b[0;34m\u001b[0m\u001b[0m\n\u001b[0m\u001b[1;32m      4\u001b[0m \u001b[0mprint\u001b[0m\u001b[0;34m(\u001b[0m\u001b[0mresults\u001b[0m\u001b[0;34m)\u001b[0m\u001b[0;34m\u001b[0m\u001b[0;34m\u001b[0m\u001b[0m\n",
      "\u001b[0;31mAttributeError\u001b[0m: 'str' object has no attribute 'remove'"
     ]
    }
   ],
   "source": [
    "#Write a Python program to remove unwanted characters from a given string.\n",
    "name='%janet killed/ a bug by **'\n",
    "results=name.remove('%/**')\n",
    "print(results)"
   ]
  },
  {
   "cell_type": "code",
   "execution_count": null,
   "metadata": {},
   "outputs": [],
   "source": []
  },
  {
   "cell_type": "code",
   "execution_count": null,
   "metadata": {},
   "outputs": [],
   "source": []
  },
  {
   "cell_type": "code",
   "execution_count": null,
   "metadata": {},
   "outputs": [],
   "source": []
  },
  {
   "cell_type": "code",
   "execution_count": null,
   "metadata": {},
   "outputs": [],
   "source": []
  }
 ],
 "metadata": {
  "kernelspec": {
   "display_name": "Python 3",
   "language": "python",
   "name": "python3"
  },
  "language_info": {
   "codemirror_mode": {
    "name": "ipython",
    "version": 3
   },
   "file_extension": ".py",
   "mimetype": "text/x-python",
   "name": "python",
   "nbconvert_exporter": "python",
   "pygments_lexer": "ipython3",
   "version": "3.7.6"
  }
 },
 "nbformat": 4,
 "nbformat_minor": 4
}
